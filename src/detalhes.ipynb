{
 "cells": [
  {
   "cell_type": "code",
   "execution_count": 1,
   "id": "f375512f",
   "metadata": {},
   "outputs": [],
   "source": [
    "import pandas as pd\n",
    "import requests\n",
    "from bs4 import BeautifulSoup\n",
    "from tqdm import tqdm"
   ]
  },
  {
   "cell_type": "code",
   "execution_count": 2,
   "id": "e60f1b1b",
   "metadata": {},
   "outputs": [],
   "source": [
    "df = pd.read_excel(\"../datasets/butecos_2025_geolocated.xlsx\")"
   ]
  },
  {
   "cell_type": "code",
   "execution_count": 3,
   "id": "8c0c9fe8",
   "metadata": {},
   "outputs": [
    {
     "name": "stderr",
     "output_type": "stream",
     "text": [
      "100%|██████████| 1193/1193 [12:50<00:00,  1.55it/s]\n"
     ]
    }
   ],
   "source": [
    "df[\"Detalhamento Prato\"] = None\n",
    "df[\"Horario\"] = None\n",
    "df[\"Telefone\"] = None\n",
    "\n",
    "for i, row in tqdm(df.iterrows(), total=len(df)):\n",
    "    url_detalhes = row[\"Detalhes\"]\n",
    "    response = requests.get(url_detalhes)\n",
    "    soup = BeautifulSoup(response.content, \"html.parser\")\n",
    "    \n",
    "    info = soup.find('div', class_='section-text').find_all('p')\n",
    "    \n",
    "    try:\n",
    "        ########## detalhamento do prato ##########\n",
    "        detalhamento_prato = info[0]\n",
    "\n",
    "        # Pega o texto do <b>\n",
    "        bold_text = detalhamento_prato.b.get_text()\n",
    "\n",
    "        # Pega o texto completo e remove a parte em <b>\n",
    "        text_after_b = detalhamento_prato.get_text().replace(bold_text, '', 1).strip()\n",
    "        \n",
    "        ########## telefone ##########\n",
    "        telefone = info[-2].text.strip()\n",
    "        \n",
    "        ########### horario ##########\n",
    "        horario = info[-1].text.strip()\n",
    "        \n",
    "        # adiciona ao dataframe\n",
    "        df.at[i, \"Detalhamento Prato\"] = text_after_b\n",
    "        df.at[i, \"Telefone\"] = telefone\n",
    "        df.at[i, \"Horario\"] = horario\n",
    "    \n",
    "    except:\n",
    "        # Se não encontrar o telefone ou horario, continua\n",
    "        continue"
   ]
  },
  {
   "cell_type": "code",
   "execution_count": 4,
   "id": "575796c2",
   "metadata": {},
   "outputs": [],
   "source": [
    "df.to_excel(\"../datasets/butecos_2025_detailed.xlsx\", index=False)"
   ]
  }
 ],
 "metadata": {
  "kernelspec": {
   "display_name": "venv",
   "language": "python",
   "name": "python3"
  },
  "language_info": {
   "codemirror_mode": {
    "name": "ipython",
    "version": 3
   },
   "file_extension": ".py",
   "mimetype": "text/x-python",
   "name": "python",
   "nbconvert_exporter": "python",
   "pygments_lexer": "ipython3",
   "version": "3.12.5"
  }
 },
 "nbformat": 4,
 "nbformat_minor": 5
}
