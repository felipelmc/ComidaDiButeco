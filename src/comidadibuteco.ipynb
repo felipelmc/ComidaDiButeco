{
 "cells": [
  {
   "cell_type": "code",
   "execution_count": 31,
   "id": "c6c54609",
   "metadata": {},
   "outputs": [],
   "source": [
    "import requests\n",
    "import pandas as pd\n",
    "from bs4 import BeautifulSoup\n",
    "from tqdm import tqdm\n",
    "import time\n",
    "import re\n",
    "import os"
   ]
  },
  {
   "cell_type": "code",
   "execution_count": null,
   "id": "c3586642",
   "metadata": {},
   "outputs": [],
   "source": [
    "pages = [f\"https://comidadibuteco.com.br/butecos/page/{i}\" for i in range(1, 90)]"
   ]
  },
  {
   "cell_type": "code",
   "execution_count": null,
   "id": "ccfc4282",
   "metadata": {},
   "outputs": [],
   "source": [
    "df = pd.DataFrame(columns=['Nome', 'Endereço', 'Imagem', 'Detalhes'])\n",
    "\n",
    "for page in tqdm(pages, desc=\"Scraping pages\", unit=\"page\", total=len(pages)):\n",
    "    response = requests.get(page)\n",
    "    soup = BeautifulSoup(response.text, 'html.parser')\n",
    "    butecos = soup.find_all('div', class_='col-12 col-md-4 col-lg-3 mb-4')\n",
    "\n",
    "    for buteco in butecos:\n",
    "        nome = buteco.find('h2').text.strip()\n",
    "        endereco = buteco.find('p').text.strip()\n",
    "        img_url = buteco.find('img')['src']\n",
    "        detalhes = buteco.find('a')['href']\n",
    "        \n",
    "        new_row = pd.DataFrame([[nome, endereco, img_url, detalhes]], columns=['Nome', 'Endereço', 'Imagem', 'Detalhes'])\n",
    "        df = pd.concat([df, new_row], ignore_index=True)"
   ]
  },
  {
   "cell_type": "code",
   "execution_count": null,
   "id": "7e8b0f51",
   "metadata": {},
   "outputs": [],
   "source": [
    "df.to_excel(\"../datasets/butecos_2025.xlsx\", index=False)"
   ]
  }
 ],
 "metadata": {
  "kernelspec": {
   "display_name": "venv",
   "language": "python",
   "name": "python3"
  },
  "language_info": {
   "codemirror_mode": {
    "name": "ipython",
    "version": 3
   },
   "file_extension": ".py",
   "mimetype": "text/x-python",
   "name": "python",
   "nbconvert_exporter": "python",
   "pygments_lexer": "ipython3",
   "version": "3.12.5"
  }
 },
 "nbformat": 4,
 "nbformat_minor": 5
}
