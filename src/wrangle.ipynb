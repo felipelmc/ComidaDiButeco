{
 "cells": [
  {
   "cell_type": "code",
   "execution_count": 126,
   "id": "ba3e94ca",
   "metadata": {},
   "outputs": [],
   "source": [
    "import pandas as pd"
   ]
  },
  {
   "cell_type": "code",
   "execution_count": null,
   "id": "dc5ea219",
   "metadata": {},
   "outputs": [],
   "source": [
    "df = pd.read_excel(\"../datasets/butecos_2025.xlsx\")"
   ]
  },
  {
   "cell_type": "code",
   "execution_count": 128,
   "id": "da0e0228",
   "metadata": {},
   "outputs": [],
   "source": [
    "df[\"Endereço_splited\"] = df[\"Endereço\"].str.split(\"|\")"
   ]
  },
  {
   "cell_type": "code",
   "execution_count": 129,
   "id": "f69a1e99",
   "metadata": {},
   "outputs": [],
   "source": [
    "df[\"Rua_Numero\"] = df[\"Endereço_splited\"].str[0]\n",
    "df[\"Complemento\"] = df[\"Endereço_splited\"].str[1]"
   ]
  },
  {
   "cell_type": "code",
   "execution_count": 130,
   "id": "f05b4421",
   "metadata": {},
   "outputs": [],
   "source": [
    "df[\"Rua_Numero\"] = df[\"Rua_Numero\"].str.split(\",\")\n",
    "df[\"Rua\"] = df[\"Rua_Numero\"].str[0].str.strip()\n",
    "df[\"Numero\"] = df[\"Rua_Numero\"].str[1].str.strip()"
   ]
  },
  {
   "cell_type": "code",
   "execution_count": 131,
   "id": "183262b7",
   "metadata": {},
   "outputs": [],
   "source": [
    "df[\"Complemento\"] = df[\"Complemento\"].str.split(\",\")"
   ]
  },
  {
   "cell_type": "code",
   "execution_count": 132,
   "id": "cbd46874",
   "metadata": {},
   "outputs": [
    {
     "data": {
      "text/plain": [
       "np.int64(74)"
      ]
     },
     "execution_count": 132,
     "metadata": {},
     "output_type": "execute_result"
    }
   ],
   "source": [
    "df[\"Complemento\"].isna().sum()"
   ]
  },
  {
   "cell_type": "code",
   "execution_count": 133,
   "id": "7641d055",
   "metadata": {},
   "outputs": [],
   "source": [
    "df[\"Bairro\"] = None\n",
    "df[\"Cidade_UF\"] = None\n",
    "\n",
    "for i in range(len(df)):\n",
    "    complemento = df.loc[i, \"Complemento\"]\n",
    "    \n",
    "    if isinstance(complemento, list):\n",
    "    \n",
    "        if len(complemento) > 1:\n",
    "            df.loc[i, \"Bairro\"] = complemento[0].strip()\n",
    "            df.loc[i, \"Cidade_UF\"] = complemento[1].strip()\n",
    "        else:\n",
    "            df.loc[i, \"Bairro\"] = None\n",
    "            df.loc[i, \"Cidade_UF\"] = complemento[0].strip()"
   ]
  },
  {
   "cell_type": "code",
   "execution_count": 134,
   "id": "84af82db",
   "metadata": {},
   "outputs": [],
   "source": [
    "df[\"Cidade\"] = None\n",
    "df[\"UF\"] = None\n",
    "\n",
    "for i in range(len(df)):\n",
    "    cidade_uf = df.loc[i, \"Cidade_UF\"]\n",
    "    \n",
    "    if isinstance(cidade_uf, str):\n",
    "        cidade_uf = cidade_uf.split(\"-\")\n",
    "        \n",
    "        if len(cidade_uf) > 1:\n",
    "            df.loc[i, \"Cidade\"] = cidade_uf[0].strip()\n",
    "            df.loc[i, \"UF\"] = cidade_uf[1].strip()\n",
    "        else:\n",
    "            df.loc[i, \"Cidade\"] = None\n",
    "            df.loc[i, \"UF\"] = cidade_uf[0].strip()"
   ]
  },
  {
   "cell_type": "code",
   "execution_count": 142,
   "id": "97ea1806",
   "metadata": {},
   "outputs": [],
   "source": [
    "df.drop(columns=[\"Endereço_splited\", \"Rua_Numero\", \"Complemento\", \"Cidade_UF\"], inplace=True)"
   ]
  },
  {
   "cell_type": "code",
   "execution_count": null,
   "id": "2d3fd92e",
   "metadata": {},
   "outputs": [],
   "source": [
    "df.to_excel(\"../datasets/butecos_2025_cleaned.xlsx\", index=False)"
   ]
  }
 ],
 "metadata": {
  "kernelspec": {
   "display_name": "venv",
   "language": "python",
   "name": "python3"
  },
  "language_info": {
   "codemirror_mode": {
    "name": "ipython",
    "version": 3
   },
   "file_extension": ".py",
   "mimetype": "text/x-python",
   "name": "python",
   "nbconvert_exporter": "python",
   "pygments_lexer": "ipython3",
   "version": "3.12.5"
  }
 },
 "nbformat": 4,
 "nbformat_minor": 5
}
